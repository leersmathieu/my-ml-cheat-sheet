{
 "cells": [
  {
   "cell_type": "markdown",
   "metadata": {},
   "source": [
    "# Deep Learning with CNN"
   ]
  },
  {
   "cell_type": "markdown",
   "metadata": {},
   "source": [
    "### Importing libs ...."
   ]
  },
  {
   "cell_type": "code",
   "execution_count": 3,
   "metadata": {},
   "outputs": [
    {
     "name": "stdout",
     "output_type": "stream",
     "text": [
      "2.4.1\n"
     ]
    }
   ],
   "source": [
    "from tensorflow.keras import layers\n",
    "from tensorflow import keras \n",
    "import tensorflow as tf\n",
    "\n",
    "import numpy as np\n",
    "import pandas as pd\n",
    "import matplotlib.pyplot as plt\n",
    "import seaborn as sns\n",
    "import missingno as msno\n",
    "\n",
    "print(tf.__version__)"
   ]
  },
  {
   "cell_type": "markdown",
   "metadata": {},
   "source": [
    "### Constants"
   ]
  },
  {
   "cell_type": "code",
   "execution_count": 4,
   "metadata": {},
   "outputs": [],
   "source": [
    "BATCH_SIZE = 32"
   ]
  },
  {
   "cell_type": "markdown",
   "metadata": {},
   "source": [
    "### Dataset loading"
   ]
  },
  {
   "cell_type": "code",
   "execution_count": 5,
   "metadata": {},
   "outputs": [],
   "source": [
    "# Download the mnist dataset\n",
    "mnist = tf.keras.datasets.mnist\n",
    "\n",
    "# Load the dataset into '_raw' varible: They'll need further processing.\n",
    "(X_train, y_train), (X_test, y_test) = mnist.load_data()"
   ]
  },
  {
   "cell_type": "markdown",
   "metadata": {},
   "source": [
    "### Custom Function"
   ]
  },
  {
   "cell_type": "code",
   "execution_count": 6,
   "metadata": {},
   "outputs": [],
   "source": [
    "def pprint_numpy_matrix(mat, fmt=\"g\"):\n",
    "    \"\"\"Pretty print a numpy matrix\"\"\"\n",
    "\n",
    "    col_maxes = [max([len((\"{:\"+fmt+\"}\").format(x)) for x in col]) for col in mat.T]\n",
    "\n",
    "    for x in mat:\n",
    "        for i, y in enumerate(x):\n",
    "            print((\"{:\"+str(col_maxes[i])+fmt+\"}\").format(y), end=\"  \")\n",
    "        print(\"\")"
   ]
  },
  {
   "cell_type": "markdown",
   "metadata": {},
   "source": [
    "## Exploratory data analysis"
   ]
  },
  {
   "cell_type": "markdown",
   "metadata": {},
   "source": [
    "As always, a minimum of visualization and cleaning is required."
   ]
  },
  {
   "cell_type": "markdown",
   "metadata": {},
   "source": [
    "#### Get the types of the variables"
   ]
  },
  {
   "cell_type": "code",
   "execution_count": 7,
   "metadata": {},
   "outputs": [
    {
     "name": "stdout",
     "output_type": "stream",
     "text": [
      "X_train <class 'numpy.ndarray'>\n",
      "y_train <class 'numpy.ndarray'>\n"
     ]
    }
   ],
   "source": [
    "print(\"X_train\", type(X_train))\n",
    "print(\"y_train\", type(y_train))"
   ]
  },
  {
   "cell_type": "markdown",
   "metadata": {},
   "source": [
    "#### Shapes "
   ]
  },
  {
   "cell_type": "code",
   "execution_count": 8,
   "metadata": {},
   "outputs": [
    {
     "data": {
      "text/plain": [
       "(60000, 28, 28)"
      ]
     },
     "execution_count": 8,
     "metadata": {},
     "output_type": "execute_result"
    }
   ],
   "source": [
    "X_train.shape"
   ]
  },
  {
   "cell_type": "code",
   "execution_count": 9,
   "metadata": {},
   "outputs": [
    {
     "data": {
      "text/plain": [
       "(60000,)"
      ]
     },
     "execution_count": 9,
     "metadata": {},
     "output_type": "execute_result"
    }
   ],
   "source": [
    "y_train.shape"
   ]
  },
  {
   "cell_type": "markdown",
   "metadata": {},
   "source": [
    "The train data are 60 000 images of 28x28 pixels, labeled."
   ]
  },
  {
   "cell_type": "markdown",
   "metadata": {},
   "source": [
    "#### Target"
   ]
  },
  {
   "cell_type": "code",
   "execution_count": 10,
   "metadata": {},
   "outputs": [
    {
     "data": {
      "text/plain": [
       "5"
      ]
     },
     "execution_count": 10,
     "metadata": {},
     "output_type": "execute_result"
    }
   ],
   "source": [
    "y_train[0]"
   ]
  },
  {
   "cell_type": "markdown",
   "metadata": {},
   "source": [
    "The target are a 60 000 array. Each entry contain the number corresponfing to the image."
   ]
  },
  {
   "cell_type": "markdown",
   "metadata": {},
   "source": [
    "## Display the images\n",
    "About the images we'll be training on:\n",
    "\n",
    "* Each one is 28 pixels by 28 pixels, and totally black and white.\n",
    "* The 28 rows and 28 columns of numbers in the training data correspond to the 28 rows and 28 columns of pixels in the image.\n",
    "* The darkness of each pixel is represented as a number in the training data, where 0 is a white pixel and 255 is a black pixel."
   ]
  },
  {
   "cell_type": "code",
   "execution_count": 11,
   "metadata": {},
   "outputs": [
    {
     "data": {
      "image/png": "[encoded data removed]",
      "text/plain": [
       "<Figure size 432x288 with 1 Axes>"
      ]
     },
     "metadata": {
      "needs_background": "light"
     },
     "output_type": "display_data"
    },
    {
     "name": "stdout",
     "output_type": "stream",
     "text": [
      "This image represents the number 5\n"
     ]
    }
   ],
   "source": [
    "# index can goes from 0 to 59 999\n",
    "index = 1526\n",
    "\n",
    "# Plot the image\n",
    "plt.imshow(X_train[index], cmap='Greys', interpolation='nearest')\n",
    "plt.show()\n",
    "\n",
    "# Print the image label\n",
    "print('This image represents the number', y_train[index])"
   ]
  },
  {
   "cell_type": "code",
   "execution_count": 12,
   "metadata": {},
   "outputs": [
    {
     "name": "stdout",
     "output_type": "stream",
     "text": [
      "0  0  0  0  0    0    0    0    0    0    0    0    0    0    0    0    0    0    0    0    0    0    0    0   0  0  0  0  \n",
      "0  0  0  0  0    0    0    0    0    0    0    0    0    0    0    0    0    0    0    0    0    0    0    0   0  0  0  0  \n",
      "0  0  0  0  0    0    0    0    0    0    0    0    0    0    0    0    0    0    0    0    0    0    0    0   0  0  0  0  \n",
      "0  0  0  0  0    0    0    0    0    0    0    0    0    0    0    0    0    0    0    0    0    0    0    0   0  0  0  0  \n",
      "0  0  0  0  0    0    0    0    0    0    0    0    0    0    0    0    0    0    0    0    0    0    0    0   0  0  0  0  \n",
      "0  0  0  0  0    0    0    0    1  158  255  151    7    7    7    4    7    7    2    0    0    0    0    0   0  0  0  0  \n",
      "0  0  0  0  0    0    0    1   37  253  253  253  253  253  253  196  253  253  156  136   89   59   71    0   0  0  0  0  \n",
      "0  0  0  0  0    0    0   19  253  253  253  253  253  253  253  253  253  253  253  253  253  199   88    0   0  0  0  0  \n",
      "0  0  0  0  0    0    0   31  253  253  253  249  228  228  228  228  192  205  228  228  228  228  128    0   0  0  0  0  \n",
      "0  0  0  0  0    0    2  156  253  234   99   82    0    0    0    0    0    0    0    0    0    0    0    0   0  0  0  0  \n",
      "0  0  0  0  0    0   13  253  253  222   24   38   99   65  161   68    9    0    0    0    0    0    0    0   0  0  0  0  \n",
      "0  0  0  0  0    0   95  253  253  227  177  253  253  253  253  253   77   22    0    0    0    0    0    0   0  0  0  0  \n",
      "0  0  0  0  0    0  136  253  253  253  253  253  253  253  253  253  230  173   50    8    0    0    0    0   0  0  0  0  \n",
      "0  0  0  0  0    2  162  253  253  253  245  197  236  253  253  253  253  253  253  190  180   45    0    0   0  0  0  0  \n",
      "0  0  0  0  0    7  253  253  253  200   58    0   47   68   68  161  209  253  253  253  253  225   13    0   0  0  0  0  \n",
      "0  0  0  0  0  101  253  253  247   72    0    0    0    0    0    0   18  161  208  253  253  253   82    4   0  0  0  0  \n",
      "0  0  0  0  0  130  253  248  101    0    0    0    0    0    0    0    0    0   19  225  115  235  253  109   0  0  0  0  \n",
      "0  0  0  0  0   29  172  100    0    0    0    0    0    0    0    0    0    0    0  118  234  249  253  231   5  0  0  0  \n",
      "0  0  0  0  0    0    0    0    0    0    0    0    0    0    0    0    0    0    0   16  126  253  253  253   5  0  0  0  \n",
      "0  0  0  0  0    0    0    0    0    0    0    0    0    0    0    0    0    0    0    0   15  233  253  253   5  0  0  0  \n",
      "0  0  0  0  0    0    0    0    0    0    0    0    0    0    0    0    0    0    0    0    0  169  253  253  66  0  0  0  \n",
      "0  0  0  0  0    0    0    0    0    0    0    0    0    0    0   52    0    0   89  166  215  251  253  204   3  0  0  0  \n",
      "0  0  0  0  0    0    0    0    0   84  236  214  112  200  175  244  236  236  250  253  253  253  204   15   0  0  0  0  \n",
      "0  0  0  0  0    0    0    0    0   98  253  253  172  219  253  253  253  253  253  253  149   84    7    0   0  0  0  0  \n",
      "0  0  0  0  0    0    0    0    0   16  129  190  126  216  253  220  226  114    5    5    1    0    0    0   0  0  0  0  \n",
      "0  0  0  0  0    0    0    0    0    0    0    0    0    0    0    0    0    0    0    0    0    0    0    0   0  0  0  0  \n",
      "0  0  0  0  0    0    0    0    0    0    0    0    0    0    0    0    0    0    0    0    0    0    0    0   0  0  0  0  \n",
      "0  0  0  0  0    0    0    0    0    0    0    0    0    0    0    0    0    0    0    0    0    0    0    0   0  0  0  0  \n"
     ]
    }
   ],
   "source": [
    "pprint_numpy_matrix(X_train[index])"
   ]
  },
  {
   "cell_type": "markdown",
   "metadata": {},
   "source": [
    "## Data Cleaning"
   ]
  },
  {
   "cell_type": "code",
   "execution_count": 13,
   "metadata": {},
   "outputs": [],
   "source": [
    "y_train = keras.utils.to_categorical(y_train)\n",
    "y_test = keras.utils.to_categorical(y_test)"
   ]
  },
  {
   "cell_type": "code",
   "execution_count": 14,
   "metadata": {},
   "outputs": [
    {
     "data": {
      "text/plain": [
       "array([0., 0., 0., 0., 0., 1., 0., 0., 0., 0.], dtype=float32)"
      ]
     },
     "execution_count": 14,
     "metadata": {},
     "output_type": "execute_result"
    }
   ],
   "source": [
    "y_train[0]"
   ]
  },
  {
   "cell_type": "markdown",
   "metadata": {},
   "source": [
    "### Reshape the features\n",
    "As described here: https://stackoverflow.com/questions/44747343/keras-input-explanation-input-shape-units-batch-size-dim-etc\n",
    "\n",
    "2D convolutional layers need inputs at least as:\n",
    "\n",
    "* if using channels_last: (batch_size, imageside1, imageside2, channels)\n",
    "* if using channels_first: (batch_size, channels, imageside1, imageside2)\n",
    "* So, in this case, our 2Dconv layer need a 4-dim input of (None, width, height, channel). Currently, we have only a (None, width, height) input. Let's create a 4th empty dimenstion:"
   ]
  },
  {
   "cell_type": "code",
   "execution_count": 15,
   "metadata": {},
   "outputs": [],
   "source": [
    "X_train = X_train.reshape((X_train.shape[0], 28, 28, 1))\n",
    "X_test = X_test.reshape((X_test.shape[0], 28, 28, 1))"
   ]
  },
  {
   "cell_type": "markdown",
   "metadata": {},
   "source": [
    "#### Cast features to float32"
   ]
  },
  {
   "cell_type": "code",
   "execution_count": 16,
   "metadata": {},
   "outputs": [],
   "source": [
    "X_train = X_train.astype('float32')\n",
    "X_test = X_test.astype('float32')"
   ]
  },
  {
   "cell_type": "markdown",
   "metadata": {},
   "source": [
    "#### Features rescaling"
   ]
  },
  {
   "cell_type": "code",
   "execution_count": 17,
   "metadata": {},
   "outputs": [],
   "source": [
    "X_train = X_train / 255.0\n",
    "X_test = X_test / 255.0"
   ]
  },
  {
   "cell_type": "code",
   "execution_count": 18,
   "metadata": {},
   "outputs": [
    {
     "name": "stdout",
     "output_type": "stream",
     "text": [
      "min 0.0\n",
      "max 1.0\n"
     ]
    }
   ],
   "source": [
    "# Check if the rescaling occurred correctly\n",
    "print(\"min\", X_train[index].min())\n",
    "print(\"max\", X_train[index].max())"
   ]
  },
  {
   "cell_type": "markdown",
   "metadata": {},
   "source": [
    "## Model creation"
   ]
  },
  {
   "cell_type": "code",
   "execution_count": 19,
   "metadata": {},
   "outputs": [],
   "source": [
    "def create_model():\n",
    "\n",
    "    # Init a sequential model\n",
    "    model = keras.Sequential([\n",
    "\n",
    "\n",
    "        # Part 1: Feature detector\n",
    "        # --------------------------------------------------------------------------\n",
    "\n",
    "        # First VGG block\n",
    "        # Hidden layer 1: 32 filters, 3x3 kernel, relu activation function\n",
    "        layers.Conv2D(32, (3, 3), padding='same', input_shape=(28, 28, 1), kernel_initializer='he_uniform', activation='relu'),\n",
    "        layers.BatchNormalization(),\n",
    "\n",
    "        # Hidden layer 2: 32 filters, 3x3 kernel, relu activation function\n",
    "        layers.Conv2D(32, (3, 3), padding='same', kernel_initializer='he_uniform', activation='relu'),\n",
    "        layers.MaxPooling2D((2, 2)),\n",
    "\n",
    "\n",
    "        # Second VGG block\n",
    "        # Hidden layer 3: 64 filters, 3x3 kernel, relu activation function\n",
    "        layers.Conv2D(64, (3, 3), padding='same', kernel_initializer='he_uniform', activation='relu'),\n",
    "\n",
    "        # Hidden layer 4: 64 filters, 3x3 kernel, relu activation function\n",
    "        layers.Conv2D(64, (3, 3), padding='same', kernel_initializer='he_uniform', activation='relu'),\n",
    "        layers.MaxPooling2D((2, 2)),\n",
    "\n",
    "\n",
    "        # Third VGG block\n",
    "        # Hidden layer 5: 128 filters, 3x3 kernel, relu activation function\n",
    "        layers.Conv2D(128, (3, 3), padding='same', kernel_initializer='he_uniform', activation='relu'),\n",
    "\n",
    "        # Hidden layer 6: 128 filters, 3x3 kernel, relu activation function\n",
    "        layers.Conv2D(128, (3, 3), padding='same', kernel_initializer='he_uniform', activation='relu'),\n",
    "        layers.BatchNormalization(),\n",
    "        layers.MaxPooling2D((2, 2)),\n",
    "        layers.Flatten(),\n",
    "\n",
    "\n",
    "        # Part 2: classifier\n",
    "        # --------------------------------------------------------------------------\n",
    "\n",
    "        # Simple ANN\n",
    "        layers.Dense(200, kernel_initializer='he_uniform', activation='relu'),\n",
    "        layers.BatchNormalization(),\n",
    "        layers.Dropout(0.5),\n",
    "\n",
    "\n",
    "        # Output layer\n",
    "        layers.Dense(10, activation='softmax')\n",
    "\n",
    "    ])\n",
    "\n",
    "    # Compile model \n",
    "    model.compile(loss=keras.losses.categorical_crossentropy,\n",
    "              optimizer=\"adam\",\n",
    "              metrics=['accuracy'])\n",
    "\n",
    "    return model"
   ]
  },
  {
   "cell_type": "code",
   "execution_count": 20,
   "metadata": {},
   "outputs": [],
   "source": [
    "model = create_model()"
   ]
  },
  {
   "cell_type": "code",
   "execution_count": 21,
   "metadata": {},
   "outputs": [
    {
     "name": "stdout",
     "output_type": "stream",
     "text": [
      "Model: \"sequential\"\n",
      "_________________________________________________________________\n",
      "Layer (type)                 Output Shape              Param #   \n",
      "=================================================================\n",
      "conv2d (Conv2D)              (None, 28, 28, 32)        320       \n",
      "_________________________________________________________________\n",
      "batch_normalization (BatchNo (None, 28, 28, 32)        128       \n",
      "_________________________________________________________________\n",
      "conv2d_1 (Conv2D)            (None, 28, 28, 32)        9248      \n",
      "_________________________________________________________________\n",
      "max_pooling2d (MaxPooling2D) (None, 14, 14, 32)        0         \n",
      "_________________________________________________________________\n",
      "conv2d_2 (Conv2D)            (None, 14, 14, 64)        18496     \n",
      "_________________________________________________________________\n",
      "conv2d_3 (Conv2D)            (None, 14, 14, 64)        36928     \n",
      "_________________________________________________________________\n",
      "max_pooling2d_1 (MaxPooling2 (None, 7, 7, 64)          0         \n",
      "_________________________________________________________________\n",
      "conv2d_4 (Conv2D)            (None, 7, 7, 128)         73856     \n",
      "_________________________________________________________________\n",
      "conv2d_5 (Conv2D)            (None, 7, 7, 128)         147584    \n",
      "_________________________________________________________________\n",
      "batch_normalization_1 (Batch (None, 7, 7, 128)         512       \n",
      "_________________________________________________________________\n",
      "max_pooling2d_2 (MaxPooling2 (None, 3, 3, 128)         0         \n",
      "_________________________________________________________________\n",
      "flatten (Flatten)            (None, 1152)              0         \n",
      "_________________________________________________________________\n",
      "dense (Dense)                (None, 200)               230600    \n",
      "_________________________________________________________________\n",
      "batch_normalization_2 (Batch (None, 200)               800       \n",
      "_________________________________________________________________\n",
      "dropout (Dropout)            (None, 200)               0         \n",
      "_________________________________________________________________\n",
      "dense_1 (Dense)              (None, 10)                2010      \n",
      "=================================================================\n",
      "Total params: 520,482\n",
      "Trainable params: 519,762\n",
      "Non-trainable params: 720\n",
      "_________________________________________________________________\n"
     ]
    }
   ],
   "source": [
    "model.summary()"
   ]
  },
  {
   "cell_type": "markdown",
   "metadata": {},
   "source": [
    "### Dataset augmentation\n",
    "API: https://www.tensorflow.org/api_docs/python/tf/keras/preprocessing/image/ImageDataGenerator"
   ]
  },
  {
   "cell_type": "code",
   "execution_count": 22,
   "metadata": {},
   "outputs": [],
   "source": [
    "datagen = keras.preprocessing.image.ImageDataGenerator(\n",
    "    width_shift_range=0.1,\n",
    "    height_shift_range=0.1,\n",
    "    rotation_range=360)"
   ]
  },
  {
   "cell_type": "code",
   "execution_count": 23,
   "metadata": {},
   "outputs": [],
   "source": [
    "datagen.fit(X_train)"
   ]
  },
  {
   "cell_type": "code",
   "execution_count": 24,
   "metadata": {},
   "outputs": [],
   "source": [
    "augmented_train = datagen.flow(X_train, y_train, batch_size=BATCH_SIZE)"
   ]
  },
  {
   "cell_type": "code",
   "execution_count": 25,
   "metadata": {},
   "outputs": [
    {
     "name": "stdout",
     "output_type": "stream",
     "text": [
      "Epoch 1/10\n",
      "1875/1875 [==============================] - 23s 10ms/step - loss: 1.1605 - accuracy: 0.6203 - val_loss: 0.4751 - val_accuracy: 0.8481\n",
      "Epoch 2/10\n",
      "1875/1875 [==============================] - 18s 10ms/step - loss: 0.3436 - accuracy: 0.8886 - val_loss: 0.2730 - val_accuracy: 0.9103\n",
      "Epoch 3/10\n",
      "1875/1875 [==============================] - 19s 10ms/step - loss: 0.2742 - accuracy: 0.9126 - val_loss: 0.1896 - val_accuracy: 0.9376\n",
      "Epoch 4/10\n",
      "1875/1875 [==============================] - 19s 10ms/step - loss: 0.2326 - accuracy: 0.9254 - val_loss: 0.1526 - val_accuracy: 0.9509\n",
      "Epoch 5/10\n",
      "1875/1875 [==============================] - 19s 10ms/step - loss: 0.2034 - accuracy: 0.9347 - val_loss: 0.2010 - val_accuracy: 0.9385\n",
      "Epoch 6/10\n",
      "1875/1875 [==============================] - 19s 10ms/step - loss: 0.1924 - accuracy: 0.9391 - val_loss: 0.1499 - val_accuracy: 0.9496\n",
      "Epoch 7/10\n",
      "1875/1875 [==============================] - 19s 10ms/step - loss: 0.1798 - accuracy: 0.9435 - val_loss: 0.1094 - val_accuracy: 0.9623\n",
      "Epoch 8/10\n",
      "1875/1875 [==============================] - 18s 10ms/step - loss: 0.1699 - accuracy: 0.9457 - val_loss: 0.1288 - val_accuracy: 0.9594\n",
      "Epoch 9/10\n",
      "1875/1875 [==============================] - 18s 10ms/step - loss: 0.1609 - accuracy: 0.9487 - val_loss: 0.1092 - val_accuracy: 0.9649\n",
      "Epoch 10/10\n",
      "1875/1875 [==============================] - 19s 10ms/step - loss: 0.1616 - accuracy: 0.9491 - val_loss: 0.1114 - val_accuracy: 0.9641\n"
     ]
    }
   ],
   "source": [
    "steps = int(X_train.shape[0] / BATCH_SIZE)\n",
    "\n",
    "with tf.device('/device:GPU:0'):\n",
    "    history = model.fit(augmented_train, steps_per_epoch=steps, epochs=10, validation_data=(X_test, y_test), shuffle=True)"
   ]
  },
  {
   "cell_type": "markdown",
   "metadata": {},
   "source": [
    "## Evaluation"
   ]
  },
  {
   "cell_type": "code",
   "execution_count": 26,
   "metadata": {},
   "outputs": [
    {
     "name": "stdout",
     "output_type": "stream",
     "text": [
      "Accuracy: 96.41%\n"
     ]
    }
   ],
   "source": [
    "scores = model.evaluate(X_test, y_test, verbose=0)\n",
    "print(\"Accuracy: %.2f%%\" % (scores[1]*100))"
   ]
  },
  {
   "cell_type": "code",
   "execution_count": 27,
   "metadata": {},
   "outputs": [],
   "source": [
    "width, height, *_ = X_train[0].shape\n",
    "example = X_train[0].reshape(1, width, height, 1)"
   ]
  },
  {
   "cell_type": "code",
   "execution_count": 28,
   "metadata": {},
   "outputs": [
    {
     "data": {
      "text/plain": [
       "array([[1.15425721e-07, 3.92340581e-07, 3.53613352e-08, 3.87944638e-05,\n",
       "        1.07195374e-04, 9.99768555e-01, 6.59006946e-06, 8.33870399e-06,\n",
       "        2.02545216e-05, 4.97918918e-05]], dtype=float32)"
      ]
     },
     "execution_count": 28,
     "metadata": {},
     "output_type": "execute_result"
    }
   ],
   "source": [
    "model.predict(example)"
   ]
  },
  {
   "cell_type": "code",
   "execution_count": 29,
   "metadata": {},
   "outputs": [
    {
     "data": {
      "image/png": "[encoded data removed]",
      "text/plain": [
       "<Figure size 432x288 with 1 Axes>"
      ]
     },
     "metadata": {
      "needs_background": "light"
     },
     "output_type": "display_data"
    }
   ],
   "source": [
    "plt.plot(history.history['loss'], label='Train Loss')\n",
    "plt.plot(history.history['val_loss'], label='Validation Loss')\n",
    "plt.legend()\n",
    "plt.show()"
   ]
  },
  {
   "cell_type": "code",
   "execution_count": 30,
   "metadata": {},
   "outputs": [
    {
     "data": {
      "image/png": "[encoded data removed]",
      "text/plain": [
       "<Figure size 432x288 with 1 Axes>"
      ]
     },
     "metadata": {
      "needs_background": "light"
     },
     "output_type": "display_data"
    }
   ],
   "source": [
    "plt.plot(history.history['accuracy'], label='Train accuracy')\n",
    "plt.plot(history.history['val_accuracy'], label='Validation accuracy')\n",
    "plt.legend()\n",
    "plt.show()"
   ]
  },
  {
   "cell_type": "markdown",
   "metadata": {},
   "source": [
    "### Saving model"
   ]
  },
  {
   "cell_type": "code",
   "execution_count": 32,
   "metadata": {},
   "outputs": [],
   "source": [
    "model.save('models/mnist_cnn_model.h5')"
   ]
  }
 ],
 "metadata": {
  "kernelspec": {
   "display_name": "Python 3",
   "language": "python",
   "name": "python3"
  },
  "language_info": {
   "codemirror_mode": {
    "name": "ipython",
    "version": 3
   },
   "file_extension": ".py",
   "mimetype": "text/x-python",
   "name": "python",
   "nbconvert_exporter": "python",
   "pygments_lexer": "ipython3",
   "version": "3.8.6"
  }
 },
 "nbformat": 4,
 "nbformat_minor": 1
}