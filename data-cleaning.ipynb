{
 "cells": [
  {
   "cell_type": "markdown",
   "metadata": {
    "collapsed": true
   },
   "source": [
    "# Data Cleaning\n",
    "\n",
    "Avant de pouvoir réellement analyser les données et les utiliser il va falloir les traiter.  \n",
    "La partie \"Nettoyage des données\" consiste à ...  \n",
    "\n",
    "- Traiter les données manquantes\n",
    "- Regrouper/supprimer les données inutiles\n",
    "- Supprimer les doublons\n",
    "- Convertir au maximum du raisonable les string en int/float"
   ]
  },
  {
   "cell_type": "code",
   "execution_count": 1,
   "metadata": {},
   "outputs": [
    {
     "data": {
      "text/html": [
       "<div>\n",
       "<style scoped>\n",
       "    .dataframe tbody tr th:only-of-type {\n",
       "        vertical-align: middle;\n",
       "    }\n",
       "\n",
       "    .dataframe tbody tr th {\n",
       "        vertical-align: top;\n",
       "    }\n",
       "\n",
       "    .dataframe thead th {\n",
       "        text-align: right;\n",
       "    }\n",
       "</style>\n",
       "<table border=\"1\" class=\"dataframe\">\n",
       "  <thead>\n",
       "    <tr style=\"text-align: right;\">\n",
       "      <th></th>\n",
       "      <th>Unnamed: 0</th>\n",
       "      <th>Lien</th>\n",
       "      <th>Prix</th>\n",
       "      <th>Type de propriété</th>\n",
       "      <th>Vente publique</th>\n",
       "      <th>Immeuble de rapport</th>\n",
       "      <th>Bien neuf</th>\n",
       "      <th>Code Postal</th>\n",
       "      <th>Ville</th>\n",
       "      <th>Sous-type de propriété</th>\n",
       "      <th>...</th>\n",
       "      <th>Type de cuisine</th>\n",
       "      <th>Feu ouvert</th>\n",
       "      <th>Meublé</th>\n",
       "      <th>Jardin</th>\n",
       "      <th>Surface du jardin</th>\n",
       "      <th>Terrasse</th>\n",
       "      <th>Surface de la terrasse</th>\n",
       "      <th>Surface totale du terrain</th>\n",
       "      <th>Piscine</th>\n",
       "      <th>Surface de la zone constructible</th>\n",
       "    </tr>\n",
       "  </thead>\n",
       "  <tbody>\n",
       "    <tr>\n",
       "      <th>0</th>\n",
       "      <td>0</td>\n",
       "      <td>https://www.immoweb.be/fr/annonce/appartement/...</td>\n",
       "      <td>280000</td>\n",
       "      <td>Appartement</td>\n",
       "      <td>False</td>\n",
       "      <td>False</td>\n",
       "      <td>True</td>\n",
       "      <td>1180</td>\n",
       "      <td>Uccle</td>\n",
       "      <td>Appartement</td>\n",
       "      <td>...</td>\n",
       "      <td>Hyper équipée</td>\n",
       "      <td>False</td>\n",
       "      <td>False</td>\n",
       "      <td>True</td>\n",
       "      <td>25.0</td>\n",
       "      <td>True</td>\n",
       "      <td>12.0</td>\n",
       "      <td>None</td>\n",
       "      <td>False</td>\n",
       "      <td>None</td>\n",
       "    </tr>\n",
       "    <tr>\n",
       "      <th>1</th>\n",
       "      <td>1</td>\n",
       "      <td>https://www.immoweb.be/fr/annonce/appartement/...</td>\n",
       "      <td>282500</td>\n",
       "      <td>Appartement</td>\n",
       "      <td>False</td>\n",
       "      <td>False</td>\n",
       "      <td>True</td>\n",
       "      <td>1180</td>\n",
       "      <td>Uccle</td>\n",
       "      <td>Appartement</td>\n",
       "      <td>...</td>\n",
       "      <td>Américaine hyper-équipée</td>\n",
       "      <td>False</td>\n",
       "      <td>False</td>\n",
       "      <td>False</td>\n",
       "      <td>None</td>\n",
       "      <td>True</td>\n",
       "      <td>5.0</td>\n",
       "      <td>None</td>\n",
       "      <td>False</td>\n",
       "      <td>None</td>\n",
       "    </tr>\n",
       "    <tr>\n",
       "      <th>2</th>\n",
       "      <td>2</td>\n",
       "      <td>https://www.immoweb.be/fr/annonce/appartement/...</td>\n",
       "      <td>412500</td>\n",
       "      <td>Appartement</td>\n",
       "      <td>False</td>\n",
       "      <td>False</td>\n",
       "      <td>True</td>\n",
       "      <td>1180</td>\n",
       "      <td>Uccle</td>\n",
       "      <td>Appartement</td>\n",
       "      <td>...</td>\n",
       "      <td>Américaine hyper-équipée</td>\n",
       "      <td>False</td>\n",
       "      <td>False</td>\n",
       "      <td>False</td>\n",
       "      <td>None</td>\n",
       "      <td>True</td>\n",
       "      <td>15.0</td>\n",
       "      <td>None</td>\n",
       "      <td>False</td>\n",
       "      <td>None</td>\n",
       "    </tr>\n",
       "    <tr>\n",
       "      <th>3</th>\n",
       "      <td>3</td>\n",
       "      <td>https://www.immoweb.be/fr/annonce/appartement/...</td>\n",
       "      <td>380000</td>\n",
       "      <td>Appartement</td>\n",
       "      <td>False</td>\n",
       "      <td>False</td>\n",
       "      <td>True</td>\n",
       "      <td>1160</td>\n",
       "      <td>Auderghem</td>\n",
       "      <td>Appartement</td>\n",
       "      <td>...</td>\n",
       "      <td>Hyper équipée</td>\n",
       "      <td>False</td>\n",
       "      <td>False</td>\n",
       "      <td>False</td>\n",
       "      <td>None</td>\n",
       "      <td>True</td>\n",
       "      <td>13.0</td>\n",
       "      <td>None</td>\n",
       "      <td>False</td>\n",
       "      <td>87.0</td>\n",
       "    </tr>\n",
       "    <tr>\n",
       "      <th>4</th>\n",
       "      <td>4</td>\n",
       "      <td>https://www.immoweb.be/fr/annonce/appartement/...</td>\n",
       "      <td>165000</td>\n",
       "      <td>Appartement</td>\n",
       "      <td>False</td>\n",
       "      <td>False</td>\n",
       "      <td>True</td>\n",
       "      <td>6000</td>\n",
       "      <td>Charleroi</td>\n",
       "      <td>Appartement</td>\n",
       "      <td>...</td>\n",
       "      <td>Hyper équipée</td>\n",
       "      <td>False</td>\n",
       "      <td>False</td>\n",
       "      <td>False</td>\n",
       "      <td>None</td>\n",
       "      <td>False</td>\n",
       "      <td>None</td>\n",
       "      <td>None</td>\n",
       "      <td>False</td>\n",
       "      <td>None</td>\n",
       "    </tr>\n",
       "  </tbody>\n",
       "</table>\n",
       "<p>5 rows × 24 columns</p>\n",
       "</div>"
      ],
      "text/plain": [
       "   Unnamed: 0                                               Lien    Prix  \\\n",
       "0           0  https://www.immoweb.be/fr/annonce/appartement/...  280000   \n",
       "1           1  https://www.immoweb.be/fr/annonce/appartement/...  282500   \n",
       "2           2  https://www.immoweb.be/fr/annonce/appartement/...  412500   \n",
       "3           3  https://www.immoweb.be/fr/annonce/appartement/...  380000   \n",
       "4           4  https://www.immoweb.be/fr/annonce/appartement/...  165000   \n",
       "\n",
       "  Type de propriété  Vente publique  Immeuble de rapport  Bien neuf  \\\n",
       "0       Appartement           False                False       True   \n",
       "1       Appartement           False                False       True   \n",
       "2       Appartement           False                False       True   \n",
       "3       Appartement           False                False       True   \n",
       "4       Appartement           False                False       True   \n",
       "\n",
       "   Code Postal      Ville Sous-type de propriété  ...  \\\n",
       "0         1180      Uccle            Appartement  ...   \n",
       "1         1180      Uccle            Appartement  ...   \n",
       "2         1180      Uccle            Appartement  ...   \n",
       "3         1160  Auderghem            Appartement  ...   \n",
       "4         6000  Charleroi            Appartement  ...   \n",
       "\n",
       "            Type de cuisine Feu ouvert Meublé Jardin Surface du jardin  \\\n",
       "0             Hyper équipée      False  False   True              25.0   \n",
       "1  Américaine hyper-équipée      False  False  False              None   \n",
       "2  Américaine hyper-équipée      False  False  False              None   \n",
       "3             Hyper équipée      False  False  False              None   \n",
       "4             Hyper équipée      False  False  False              None   \n",
       "\n",
       "   Terrasse  Surface de la terrasse  Surface totale du terrain Piscine  \\\n",
       "0      True                    12.0                       None   False   \n",
       "1      True                     5.0                       None   False   \n",
       "2      True                    15.0                       None   False   \n",
       "3      True                    13.0                       None   False   \n",
       "4     False                    None                       None   False   \n",
       "\n",
       "   Surface de la zone constructible  \n",
       "0                              None  \n",
       "1                              None  \n",
       "2                              None  \n",
       "3                              87.0  \n",
       "4                              None  \n",
       "\n",
       "[5 rows x 24 columns]"
      ]
     },
     "execution_count": 1,
     "metadata": {},
     "output_type": "execute_result"
    }
   ],
   "source": [
    "# importation des libs/datasets...\n",
    "import pandas as pd\n",
    "import numpy as np\n",
    "import seaborn as sns\n",
    "\n",
    "df = pd.read_csv('./dataset/immo_collect.csv')\n",
    "df.head()"
   ]
  },
  {
   "cell_type": "code",
   "execution_count": 2,
   "metadata": {},
   "outputs": [
    {
     "data": {
      "text/plain": [
       "(18201, 24)"
      ]
     },
     "execution_count": 2,
     "metadata": {},
     "output_type": "execute_result"
    }
   ],
   "source": [
    "df.shape"
   ]
  },
  {
   "cell_type": "code",
   "execution_count": 3,
   "metadata": {},
   "outputs": [
    {
     "data": {
      "text/plain": [
       "Unnamed: 0                           int64\n",
       "Lien                                object\n",
       "Prix                                object\n",
       "Type de propriété                   object\n",
       "Vente publique                        bool\n",
       "Immeuble de rapport                   bool\n",
       "Bien neuf                             bool\n",
       "Code Postal                          int64\n",
       "Ville                               object\n",
       "Sous-type de propriété              object\n",
       "Nombre de façades                   object\n",
       "Etat du bâtiment                    object\n",
       "Surface habitable                   object\n",
       "Nombre de chambre(s)                object\n",
       "Type de cuisine                     object\n",
       "Feu ouvert                            bool\n",
       "Meublé                                bool\n",
       "Jardin                                bool\n",
       "Surface du jardin                   object\n",
       "Terrasse                              bool\n",
       "Surface de la terrasse              object\n",
       "Surface totale du terrain           object\n",
       "Piscine                               bool\n",
       "Surface de la zone constructible    object\n",
       "dtype: object"
      ]
     },
     "execution_count": 3,
     "metadata": {},
     "output_type": "execute_result"
    }
   ],
   "source": [
    "df.dtypes"
   ]
  },
  {
   "cell_type": "code",
   "execution_count": 4,
   "metadata": {
    "scrolled": true
   },
   "outputs": [
    {
     "data": {
      "text/html": [
       "<div>\n",
       "<style scoped>\n",
       "    .dataframe tbody tr th:only-of-type {\n",
       "        vertical-align: middle;\n",
       "    }\n",
       "\n",
       "    .dataframe tbody tr th {\n",
       "        vertical-align: top;\n",
       "    }\n",
       "\n",
       "    .dataframe thead th {\n",
       "        text-align: right;\n",
       "    }\n",
       "</style>\n",
       "<table border=\"1\" class=\"dataframe\">\n",
       "  <thead>\n",
       "    <tr style=\"text-align: right;\">\n",
       "      <th></th>\n",
       "      <th>Lien</th>\n",
       "      <th>Prix</th>\n",
       "      <th>Type de propriété</th>\n",
       "      <th>Ville</th>\n",
       "      <th>Sous-type de propriété</th>\n",
       "      <th>Nombre de façades</th>\n",
       "      <th>Etat du bâtiment</th>\n",
       "      <th>Surface habitable</th>\n",
       "      <th>Nombre de chambre(s)</th>\n",
       "      <th>Type de cuisine</th>\n",
       "      <th>Surface du jardin</th>\n",
       "      <th>Surface de la terrasse</th>\n",
       "      <th>Surface totale du terrain</th>\n",
       "      <th>Surface de la zone constructible</th>\n",
       "    </tr>\n",
       "  </thead>\n",
       "  <tbody>\n",
       "    <tr>\n",
       "      <th>count</th>\n",
       "      <td>18201</td>\n",
       "      <td>18201</td>\n",
       "      <td>18201</td>\n",
       "      <td>18201</td>\n",
       "      <td>18201</td>\n",
       "      <td>18201</td>\n",
       "      <td>18201</td>\n",
       "      <td>18201</td>\n",
       "      <td>18201</td>\n",
       "      <td>18201</td>\n",
       "      <td>18201</td>\n",
       "      <td>18201</td>\n",
       "      <td>18201</td>\n",
       "      <td>18201</td>\n",
       "    </tr>\n",
       "    <tr>\n",
       "      <th>unique</th>\n",
       "      <td>18201</td>\n",
       "      <td>2160</td>\n",
       "      <td>2</td>\n",
       "      <td>2242</td>\n",
       "      <td>25</td>\n",
       "      <td>10</td>\n",
       "      <td>7</td>\n",
       "      <td>1099</td>\n",
       "      <td>52</td>\n",
       "      <td>9</td>\n",
       "      <td>803</td>\n",
       "      <td>194</td>\n",
       "      <td>3062</td>\n",
       "      <td>411</td>\n",
       "    </tr>\n",
       "    <tr>\n",
       "      <th>top</th>\n",
       "      <td>https://www.immoweb.be/fr/annonce/loft/a-vendr...</td>\n",
       "      <td>295000</td>\n",
       "      <td>Maison</td>\n",
       "      <td>Uccle</td>\n",
       "      <td>Maison</td>\n",
       "      <td>None</td>\n",
       "      <td>Excellent état</td>\n",
       "      <td>None</td>\n",
       "      <td>3</td>\n",
       "      <td>Équipée</td>\n",
       "      <td>None</td>\n",
       "      <td>None</td>\n",
       "      <td>None</td>\n",
       "      <td>None</td>\n",
       "    </tr>\n",
       "    <tr>\n",
       "      <th>freq</th>\n",
       "      <td>1</td>\n",
       "      <td>221</td>\n",
       "      <td>9640</td>\n",
       "      <td>530</td>\n",
       "      <td>6679</td>\n",
       "      <td>5514</td>\n",
       "      <td>5898</td>\n",
       "      <td>2316</td>\n",
       "      <td>3956</td>\n",
       "      <td>6205</td>\n",
       "      <td>14880</td>\n",
       "      <td>11195</td>\n",
       "      <td>9512</td>\n",
       "      <td>16343</td>\n",
       "    </tr>\n",
       "  </tbody>\n",
       "</table>\n",
       "</div>"
      ],
      "text/plain": [
       "                                                     Lien    Prix  \\\n",
       "count                                               18201   18201   \n",
       "unique                                              18201    2160   \n",
       "top     https://www.immoweb.be/fr/annonce/loft/a-vendr...  295000   \n",
       "freq                                                    1     221   \n",
       "\n",
       "       Type de propriété  Ville Sous-type de propriété Nombre de façades  \\\n",
       "count              18201  18201                  18201             18201   \n",
       "unique                 2   2242                     25                10   \n",
       "top               Maison  Uccle                 Maison              None   \n",
       "freq                9640    530                   6679              5514   \n",
       "\n",
       "       Etat du bâtiment Surface habitable Nombre de chambre(s)  \\\n",
       "count             18201             18201                18201   \n",
       "unique                7              1099                   52   \n",
       "top      Excellent état              None                    3   \n",
       "freq               5898              2316                 3956   \n",
       "\n",
       "       Type de cuisine Surface du jardin Surface de la terrasse  \\\n",
       "count            18201             18201                  18201   \n",
       "unique               9               803                    194   \n",
       "top            Équipée              None                   None   \n",
       "freq              6205             14880                  11195   \n",
       "\n",
       "       Surface totale du terrain Surface de la zone constructible  \n",
       "count                      18201                            18201  \n",
       "unique                      3062                              411  \n",
       "top                         None                             None  \n",
       "freq                        9512                            16343  "
      ]
     },
     "execution_count": 4,
     "metadata": {},
     "output_type": "execute_result"
    }
   ],
   "source": [
    "df.describe(include='object')"
   ]
  },
  {
   "cell_type": "code",
   "execution_count": 5,
   "metadata": {},
   "outputs": [
    {
     "data": {
      "text/html": [
       "<div>\n",
       "<style scoped>\n",
       "    .dataframe tbody tr th:only-of-type {\n",
       "        vertical-align: middle;\n",
       "    }\n",
       "\n",
       "    .dataframe tbody tr th {\n",
       "        vertical-align: top;\n",
       "    }\n",
       "\n",
       "    .dataframe thead th {\n",
       "        text-align: right;\n",
       "    }\n",
       "</style>\n",
       "<table border=\"1\" class=\"dataframe\">\n",
       "  <thead>\n",
       "    <tr style=\"text-align: right;\">\n",
       "      <th></th>\n",
       "      <th>Vente publique</th>\n",
       "      <th>Immeuble de rapport</th>\n",
       "      <th>Bien neuf</th>\n",
       "      <th>Feu ouvert</th>\n",
       "      <th>Meublé</th>\n",
       "      <th>Jardin</th>\n",
       "      <th>Terrasse</th>\n",
       "      <th>Piscine</th>\n",
       "    </tr>\n",
       "  </thead>\n",
       "  <tbody>\n",
       "    <tr>\n",
       "      <th>count</th>\n",
       "      <td>18201</td>\n",
       "      <td>18201</td>\n",
       "      <td>18201</td>\n",
       "      <td>18201</td>\n",
       "      <td>18201</td>\n",
       "      <td>18201</td>\n",
       "      <td>18201</td>\n",
       "      <td>18201</td>\n",
       "    </tr>\n",
       "    <tr>\n",
       "      <th>unique</th>\n",
       "      <td>2</td>\n",
       "      <td>2</td>\n",
       "      <td>2</td>\n",
       "      <td>2</td>\n",
       "      <td>2</td>\n",
       "      <td>2</td>\n",
       "      <td>2</td>\n",
       "      <td>2</td>\n",
       "    </tr>\n",
       "    <tr>\n",
       "      <th>top</th>\n",
       "      <td>False</td>\n",
       "      <td>False</td>\n",
       "      <td>False</td>\n",
       "      <td>False</td>\n",
       "      <td>False</td>\n",
       "      <td>False</td>\n",
       "      <td>True</td>\n",
       "      <td>False</td>\n",
       "    </tr>\n",
       "    <tr>\n",
       "      <th>freq</th>\n",
       "      <td>17374</td>\n",
       "      <td>17350</td>\n",
       "      <td>16127</td>\n",
       "      <td>17227</td>\n",
       "      <td>17646</td>\n",
       "      <td>12579</td>\n",
       "      <td>11267</td>\n",
       "      <td>17621</td>\n",
       "    </tr>\n",
       "  </tbody>\n",
       "</table>\n",
       "</div>"
      ],
      "text/plain": [
       "       Vente publique Immeuble de rapport Bien neuf Feu ouvert Meublé Jardin  \\\n",
       "count           18201               18201     18201      18201  18201  18201   \n",
       "unique              2                   2         2          2      2      2   \n",
       "top             False               False     False      False  False  False   \n",
       "freq            17374               17350     16127      17227  17646  12579   \n",
       "\n",
       "       Terrasse Piscine  \n",
       "count     18201   18201  \n",
       "unique        2       2  \n",
       "top        True   False  \n",
       "freq      11267   17621  "
      ]
     },
     "execution_count": 5,
     "metadata": {},
     "output_type": "execute_result"
    }
   ],
   "source": [
    "df.describe(include='bool')"
   ]
  },
  {
   "cell_type": "code",
   "execution_count": 6,
   "metadata": {
    "scrolled": true
   },
   "outputs": [
    {
     "data": {
      "text/plain": [
       "Unnamed: 0                          0\n",
       "Lien                                0\n",
       "Prix                                0\n",
       "Type de propriété                   0\n",
       "Vente publique                      0\n",
       "Immeuble de rapport                 0\n",
       "Bien neuf                           0\n",
       "Code Postal                         0\n",
       "Ville                               0\n",
       "Sous-type de propriété              0\n",
       "Nombre de façades                   0\n",
       "Etat du bâtiment                    0\n",
       "Surface habitable                   0\n",
       "Nombre de chambre(s)                0\n",
       "Type de cuisine                     0\n",
       "Feu ouvert                          0\n",
       "Meublé                              0\n",
       "Jardin                              0\n",
       "Surface du jardin                   0\n",
       "Terrasse                            0\n",
       "Surface de la terrasse              0\n",
       "Surface totale du terrain           0\n",
       "Piscine                             0\n",
       "Surface de la zone constructible    0\n",
       "dtype: int64"
      ]
     },
     "execution_count": 6,
     "metadata": {},
     "output_type": "execute_result"
    }
   ],
   "source": [
    "# Affichage des valeurs manquantes\n",
    "df.isna().sum()"
   ]
  },
  {
   "cell_type": "markdown",
   "metadata": {},
   "source": [
    "Z'est partit !"
   ]
  },
  {
   "cell_type": "code",
   "execution_count": 7,
   "metadata": {},
   "outputs": [],
   "source": [
    "# On commence par la suppression des doublons\n",
    "df.drop_duplicates(inplace=True)"
   ]
  },
  {
   "cell_type": "code",
   "execution_count": 8,
   "metadata": {},
   "outputs": [],
   "source": [
    "# On peu ensuite supprimer les collonnes inutiles comme les liens ici par exemple\n",
    "df.drop(columns=['Lien'],inplace=True)"
   ]
  },
  {
   "cell_type": "markdown",
   "metadata": {
    "pycharm": {
     "name": "#%% md\n"
    }
   },
   "source": [
    "Le describe m'a permis de voir que beaucoups de mes données était sous la forme 'object' (string)  \n",
    "Et qu'il existait, entre autre, trop de \"Nombre de chambre(s)\" différents \n",
    "\n",
    "On va donc s'attaquer à cela ici pour la démo\n",
    "### Nettoyage de la collonne \"Nombre de chambre(s)\""
   ]
  },
  {
   "cell_type": "code",
   "execution_count": 9,
   "metadata": {},
   "outputs": [
    {
     "data": {
      "text/plain": [
       "3        3956\n",
       "2        3023\n",
       "2.0      2427\n",
       "4        2021\n",
       "3.0      1866\n",
       "1.0       966\n",
       "5         911\n",
       "1         770\n",
       "4.0       653\n",
       "6         407\n",
       "None      356\n",
       "5.0       267\n",
       "7         146\n",
       "6.0       125\n",
       "8          68\n",
       "7.0        42\n",
       "10         33\n",
       "9          33\n",
       "11         23\n",
       "8.0        21\n",
       "10.0       14\n",
       "9.0        12\n",
       "12          9\n",
       "15          5\n",
       "13          5\n",
       "12.0        4\n",
       "14.0        3\n",
       "204.0       3\n",
       "18          3\n",
       "15.0        2\n",
       "24          2\n",
       "41          2\n",
       "49.0        2\n",
       "17          2\n",
       "20          2\n",
       "165.0       1\n",
       "20.0        1\n",
       "16.0        1\n",
       "14          1\n",
       "18.0        1\n",
       "65          1\n",
       "13.0        1\n",
       "22          1\n",
       "11.0        1\n",
       "25          1\n",
       "34          1\n",
       "21          1\n",
       "44          1\n",
       "19          1\n",
       "16          1\n",
       "30          1\n",
       "60.0        1\n",
       "Name: Nombre de chambre(s), dtype: int64"
      ]
     },
     "execution_count": 9,
     "metadata": {},
     "output_type": "execute_result"
    }
   ],
   "source": [
    "# Nombre de fois ou les différentes valeurs sont entrées\n",
    "df['Nombre de chambre(s)'].value_counts()"
   ]
  },
  {
   "cell_type": "code",
   "execution_count": 10,
   "metadata": {},
   "outputs": [
    {
     "name": "stdout",
     "output_type": "stream",
     "text": [
      "(18201, 23)\n",
      "(17845, 23)\n"
     ]
    }
   ],
   "source": [
    "# Suppression des lignes ou le nombres de chambre n'est pas indiqué\n",
    "print(df.shape)\n",
    "df = df[(df['Nombre de chambre(s)'] != 'None')]\n",
    "print(df.shape)"
   ]
  },
  {
   "cell_type": "code",
   "execution_count": 11,
   "metadata": {},
   "outputs": [],
   "source": [
    "def transform_to_int(element):\n",
    "    \"\"\"\n",
    "    Essaye de transformer un element en integer\n",
    "    Si pas, cela return un np.nan (non attribuate number)\n",
    "    \"\"\"\n",
    "    try:\n",
    "        transformed = int(float(element))\n",
    "    except:\n",
    "        transformed = np.nan\n",
    "    finally:\n",
    "        return transformed\n",
    "\n",
    "# Transformation des strings en int\n",
    "df['Nombre de chambre(s)'] = df['Nombre de chambre(s)'].apply(transform_to_int)"
   ]
  },
  {
   "cell_type": "code",
   "execution_count": 12,
   "metadata": {},
   "outputs": [
    {
     "name": "stdout",
     "output_type": "stream",
     "text": [
      "int64\n"
     ]
    },
    {
     "data": {
      "text/plain": [
       "3     5822\n",
       "2     5450\n",
       "4     2674\n",
       "1     1736\n",
       "5     1178\n",
       "6      532\n",
       "7      188\n",
       "8       89\n",
       "10      47\n",
       "9       45\n",
       "Name: Nombre de chambre(s), dtype: int64"
      ]
     },
     "execution_count": 12,
     "metadata": {},
     "output_type": "execute_result"
    }
   ],
   "source": [
    "print(df['Nombre de chambre(s)'][0].dtype)\n",
    "df['Nombre de chambre(s)'][0]\n",
    "df['Nombre de chambre(s)'].value_counts().head(10)"
   ]
  },
  {
   "cell_type": "code",
   "execution_count": 13,
   "metadata": {},
   "outputs": [
    {
     "data": {
      "text/plain": [
       "<AxesSubplot:xlabel='Nombre de chambre(s)'>"
      ]
     },
     "execution_count": 13,
     "metadata": {},
     "output_type": "execute_result"
    },
    {
     "data": {
      "image/png": "[encoded data removed]",
      "text/plain": [
       "<Figure size 432x288 with 1 Axes>"
      ]
     },
     "metadata": {
      "needs_background": "light"
     },
     "output_type": "display_data"
    }
   ],
   "source": [
    "# affichage des outliers\n",
    "sns.boxplot(x=df['Nombre de chambre(s)'])"
   ]
  },
  {
   "cell_type": "markdown",
   "metadata": {},
   "source": [
    "A partir de la je n'ai plus qu'a identifier les outliers et filtrer mes lignes en conséquences"
   ]
  },
  {
   "cell_type": "code",
   "execution_count": 14,
   "metadata": {
    "pycharm": {
     "name": "#%%\n"
    }
   },
   "outputs": [
    {
     "data": {
      "text/plain": [
       "<AxesSubplot:xlabel='Nombre de chambre(s)'>"
      ]
     },
     "execution_count": 14,
     "metadata": {},
     "output_type": "execute_result"
    },
    {
     "data": {
      "image/png": "[encoded data removed]",
      "text/plain": [
       "<Figure size 432x288 with 1 Axes>"
      ]
     },
     "metadata": {
      "needs_background": "light"
     },
     "output_type": "display_data"
    }
   ],
   "source": [
    "df = df[(df['Nombre de chambre(s)'] < 8) & (df['Nombre de chambre(s)'] > 0)]\n",
    "sns.boxplot(x=df['Nombre de chambre(s)'])"
   ]
  },
  {
   "cell_type": "code",
   "execution_count": 15,
   "metadata": {},
   "outputs": [
    {
     "name": "stdout",
     "output_type": "stream",
     "text": [
      "3    5822\n",
      "2    5450\n",
      "4    2674\n",
      "1    1736\n",
      "5    1178\n",
      "6     532\n",
      "7     188\n",
      "Name: Nombre de chambre(s), dtype: int64\n"
     ]
    },
    {
     "data": {
      "text/plain": [
       "(17580, 23)"
      ]
     },
     "execution_count": 15,
     "metadata": {},
     "output_type": "execute_result"
    }
   ],
   "source": [
    "#Voilà c'est beaucoup mieux !\n",
    "print(df['Nombre de chambre(s)'].value_counts())\n",
    "df.shape"
   ]
  },
  {
   "cell_type": "code",
   "execution_count": 16,
   "metadata": {},
   "outputs": [
    {
     "data": {
      "text/plain": [
       "Unnamed: 0                           int64\n",
       "Prix                                object\n",
       "Type de propriété                   object\n",
       "Vente publique                        bool\n",
       "Immeuble de rapport                   bool\n",
       "Bien neuf                             bool\n",
       "Code Postal                          int64\n",
       "Ville                               object\n",
       "Sous-type de propriété              object\n",
       "Nombre de façades                   object\n",
       "Etat du bâtiment                    object\n",
       "Surface habitable                   object\n",
       "Nombre de chambre(s)                 int64\n",
       "Type de cuisine                     object\n",
       "Feu ouvert                            bool\n",
       "Meublé                                bool\n",
       "Jardin                                bool\n",
       "Surface du jardin                   object\n",
       "Terrasse                              bool\n",
       "Surface de la terrasse              object\n",
       "Surface totale du terrain           object\n",
       "Piscine                               bool\n",
       "Surface de la zone constructible    object\n",
       "dtype: object"
      ]
     },
     "execution_count": 16,
     "metadata": {},
     "output_type": "execute_result"
    }
   ],
   "source": [
    "df.dtypes"
   ]
  },
  {
   "cell_type": "markdown",
   "metadata": {},
   "source": [
    "Il faut ensuite faire pareille pour le reste..."
   ]
  },
  {
   "cell_type": "code",
   "execution_count": null,
   "metadata": {},
   "outputs": [],
   "source": []
  }
 ],
 "metadata": {
  "kernelspec": {
   "display_name": "Python 3",
   "language": "python",
   "name": "python3"
  },
  "language_info": {
   "codemirror_mode": {
    "name": "ipython",
    "version": 3
   },
   "file_extension": ".py",
   "mimetype": "text/x-python",
   "name": "python",
   "nbconvert_exporter": "python",
   "pygments_lexer": "ipython3",
   "version": "3.8.5"
  }
 },
 "nbformat": 4,
 "nbformat_minor": 1
}