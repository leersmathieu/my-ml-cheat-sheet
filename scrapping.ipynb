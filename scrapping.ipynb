{
 "cells": [
  {
   "cell_type": "markdown",
   "metadata": {
    "collapsed": true
   },
   "source": [
    "# Scrapping\n",
    "\n",
    "La première étape avant toutes choses dans le machine learning est de récupérer les données qui nous intéressent pour pouvoir les analyser et les utiliser par la suite. Voici la marche à suivre : \n",
    "\n",
    "* Se connecter à une page Web\n",
    "* Analyser (Parser) le html à l’aide de Beautiful Soup ou Selenium\n",
    "* Mettre en place des boucles à travers les éléments qui nous intéressent\n",
    "* Écrire les données récupérées dans un fichier CSV"
   ]
  },
  {
   "cell_type": "markdown",
   "metadata": {
    "pycharm": {
     "name": "#%% md\n"
    }
   },
   "source": [
    "Pour se connecter et récuperer la page nous avons besoin d'un outil.\n",
    "\n",
    "**Beautiful Soup** est pour moi l'outil de base du scrapping.  \n",
    "**Selenium** permet de simuler un naviguateur et donc d'aller plus en profondeur dans le scrapping (cliquer à certains endroit par exemple ...).  \n",
    "\n",
    "Je vais donc utiliser selenium pour la suite de la démonstration.  \n",
    "Voir le notebook *demo_bs4* pour une petite démo avec Beautiful Soup."
   ]
  },
  {
   "cell_type": "code",
   "execution_count": 1,
   "metadata": {
    "pycharm": {
     "name": "#%%\n"
    }
   },
   "outputs": [
    {
     "name": "stdout",
     "output_type": "stream",
     "text": [
      "Requirement already satisfied: pandas in c:\\users\\leers\\desktop\\turing4\\my-ml-cheat-sheet\\venv\\lib\\site-packages (1.1.5)\n",
      "Requirement already satisfied: python-dateutil>=2.7.3 in c:\\users\\leers\\desktop\\turing4\\my-ml-cheat-sheet\\venv\\lib\\site-packages (from pandas) (2.8.1)\n",
      "Requirement already satisfied: numpy>=1.15.4 in c:\\users\\leers\\desktop\\turing4\\my-ml-cheat-sheet\\venv\\lib\\site-packages (from pandas) (1.20.0rc1)\n",
      "Requirement already satisfied: pytz>=2017.2 in c:\\users\\leers\\desktop\\turing4\\my-ml-cheat-sheet\\venv\\lib\\site-packages (from pandas) (2020.4)\n",
      "Requirement already satisfied: six>=1.5 in c:\\users\\leers\\desktop\\turing4\\my-ml-cheat-sheet\\venv\\lib\\site-packages (from python-dateutil>=2.7.3->pandas) (1.15.0)\n"
     ]
    },
    {
     "name": "stderr",
     "output_type": "stream",
     "text": [
      "WARNING: You are using pip version 20.3.3; however, version 21.0.1 is available.\n",
      "You should consider upgrading via the 'c:\\users\\leers\\desktop\\turing4\\my-ml-cheat-sheet\\venv\\scripts\\python.exe -m pip install --upgrade pip' command.\n"
     ]
    },
    {
     "name": "stdout",
     "output_type": "stream",
     "text": [
      "Collecting bs4\n",
      "  Using cached bs4-0.0.1-py3-none-any.whl\n",
      "Collecting beautifulsoup4\n",
      "  Using cached beautifulsoup4-4.9.3-py3-none-any.whl (115 kB)\n",
      "Collecting soupsieve>1.2\n",
      "  Using cached soupsieve-2.2-py3-none-any.whl (33 kB)\n",
      "Installing collected packages: soupsieve, beautifulsoup4, bs4\n",
      "Successfully installed beautifulsoup4-4.9.3 bs4-0.0.1 soupsieve-2.2\n"
     ]
    },
    {
     "name": "stderr",
     "output_type": "stream",
     "text": [
      "WARNING: You are using pip version 20.3.3; however, version 21.0.1 is available.\n",
      "You should consider upgrading via the 'c:\\users\\leers\\desktop\\turing4\\my-ml-cheat-sheet\\venv\\scripts\\python.exe -m pip install --upgrade pip' command.\n"
     ]
    },
    {
     "name": "stdout",
     "output_type": "stream",
     "text": [
      "Collecting selenium\n",
      "  Using cached selenium-3.141.0-py2.py3-none-any.whl (904 kB)\n",
      "Collecting urllib3\n",
      "  Using cached urllib3-1.26.3-py2.py3-none-any.whl (137 kB)\n",
      "Installing collected packages: urllib3, selenium\n",
      "Successfully installed selenium-3.141.0 urllib3-1.26.3\n"
     ]
    },
    {
     "name": "stderr",
     "output_type": "stream",
     "text": [
      "WARNING: You are using pip version 20.3.3; however, version 21.0.1 is available.\n",
      "You should consider upgrading via the 'c:\\users\\leers\\desktop\\turing4\\my-ml-cheat-sheet\\venv\\scripts\\python.exe -m pip install --upgrade pip' command.\n"
     ]
    }
   ],
   "source": [
    "# let's install our tools\n",
    "!pip install pandas\n",
    "!pip install bs4\n",
    "!pip install selenium\n"
   ]
  },
  {
   "cell_type": "code",
   "execution_count": 2,
   "metadata": {
    "pycharm": {
     "name": "#%%\n"
    }
   },
   "outputs": [],
   "source": [
    "# import librairies ...\n",
    "from selenium import webdriver\n",
    "from selenium.webdriver.support.ui import WebDriverWait\n",
    "from selenium.webdriver.support import expected_conditions as EC\n",
    "from selenium.webdriver.common.by import By\n",
    "from selenium.webdriver.chrome.options import Options # Pour les utilisateurs de Google Chrome\n",
    "\n",
    "import time\n",
    "import pandas as pd\n",
    "import os"
   ]
  },
  {
   "cell_type": "code",
   "execution_count": 5,
   "metadata": {},
   "outputs": [],
   "source": [
    "# Récupération de l'url de base en variable ( de la ou on part pour le scrapping )\n",
    "base_url = \"https://www.blablagues.net/blagues.html\"\n",
    "\n",
    "# Initialisons du web driver\n",
    "options = Options()\n",
    "options.page_load_strategy = 'normal'\n",
    "\n",
    "driver = webdriver.Chrome('driver/chromedriver', options=options)\n",
    "driver.implicitly_wait(10)\n",
    "\n",
    "# Variable spécifique à CE scrapping (et donc pas indispensable)\n",
    "nombre_de_page = 2\n",
    "joke_list = []\n",
    "\n",
    "# Connection et récupération de la page par le driver\n",
    "driver.get(base_url)"
   ]
  },
  {
   "cell_type": "code",
   "execution_count": 7,
   "metadata": {
    "pycharm": {
     "name": "#%%\n"
    }
   },
   "outputs": [],
   "source": [
    "# Exemple de récupération de tout le body du site\n",
    "body = driver.find_element_by_tag_name('body')\n",
    "# body.get_attribute('innerHTML')"
   ]
  },
  {
   "cell_type": "code",
   "execution_count": 8,
   "metadata": {},
   "outputs": [
    {
     "name": "stdout",
     "output_type": "stream",
     "text": [
      "Qu'est-ce qui est jaune et qui attend ?\n",
      "Tes dents qui attendent chez le dentiste !\n",
      "Quelle est la différence entre ma femme et une vidéo YouTube ?\n",
      "La vidéo on peut la mettre en sourdine !\n",
      "Un belge s'appuie sur le mur, lequel cède en premier ?\n",
      "Le mur ! C'est le plus intelligent qui cède !\n",
      "Deux chèvres, BABI et BABA sont sur un bateau.\n",
      "BABA tombe dans l'eau.\n",
      "Que se passe-t-il ?\n",
      "BABYBEL !\n",
      "Un homme demande à un avocat :\n",
      "« Quel est le montant de vos honoraires ? »\n",
      "L'avocat lui répond qu'il est de 1000€ pour trois questions.\n",
      "L'homme lui demande alors :\n",
      "« N'est-ce pas un peu excessif ? »\n",
      "Et l'avocat lui répond :\n",
      "« Non. Quelle est votre troisième question ? »\n",
      "Ton père est tellement vieux qu’il pète de la poussière.\n",
      "Qu’est-ce qu’un homme intelligent en Belgique ?\n",
      "Un touriste.\n",
      "Bonjour, vous avez des céréales hallal ?\n",
      "Oui, j’ai aussi des tartines tines tines et de la confiture ture ture…\n",
      "Ton frère est tellement bête que quand il joue avec le chien c'est lui qui va chercher la balle !\n",
      "Ta mère est tellement radine que quand elle va aux toilettes elle utilise les deux côtés du papier toilette !\n",
      "Comment est-ce que la chouette sait que son mari fait la gueule ?\n",
      "Parce qu’hiboude !\n",
      "La maîtresse demande de construire une phrase avec l'adjectif épithète.\n",
      "Nicolas lève le doigt et dit :\n",
      "Aujourd'hui il pleut, épithète demain, il fera beau !\n",
      "C'est un belge qui va chez le docteur et lui dit :\n",
      "- Bonjour docteur je pense que je perd la mémoire ! Le docteur lui repond :\n",
      "- À bon et depuis quand ? Et Le belge répond :\n",
      "- Depuis quand quoi ? 👨‍⚕️\n",
      "Qu'est-ce qui est vert et qui devient rouge quand on appui sur le bouton ?\n",
      "Une grenouille dans un mixer ! 🐸\n",
      "Ta mère elle est tellement grosse que quand elle tombe du lit elle tombe des deux côtés !\n",
      "Pourquoi les grenouilles ont toujours les fesses dans l’eau ?\n",
      "Pour garder la raie nette 🐸 !\n",
      "Si les cons étaient fluorescents, la Terre 🌍 illuminerait le Soleil 🌞 !\n",
      "Qu'est-ce qui est jaune et qui fait crac crac ?\n",
      "Un poussin qui mange des chips ! 🐤\n",
      "Quelle partie du légume ne va pas au mixeur !?\n",
      "La chaise roulante ! 🧐\n",
      "Tu veux que je te raconte une blague vaseuse ?\n",
      "Mets tes bottes !\n",
      "On m'achète pour manger mais on ne me mange jamais. Qui suis-je ?\n",
      "Une assiette !\n",
      "Ta mère est tellement poilu que quand elle promène le chien c'est elle qu'on caresse 🐶🐕\n",
      "Luc, Jean et Paul vont au bowling.\n",
      "Qui gagne ?\n",
      "Luc, parce que Luc y Strike !\n",
      "Un monsieur entre dans un café.\n",
      "Plouf !\n",
      "Comment se nomme la Barbie la plus poilue ? 👯\n",
      "La Barbie chette ! 🧔\n",
      "Tu as 4 poussins et tu n'en veux que 3, comment faire ?\n",
      "Tu en pousses un 🐥🐤🐣\n",
      "Un jour quelqu'un a dit à Inch d'aller à Marrakech...\n",
      "Et Inch alla ! 🇲🇦\n",
      "Pourquoi il n'y a plus de Mammouth ? 🐘\n",
      "Parce qu'il n'y a plus de Papouth.\n",
      "Vous connaissez l'histoire de l'armoire ?\n",
      "Elle n'est pas commode...\n",
      "Comment appelle-t-on un combat entre un petit pois et une carotte ? 🥕\n",
      "Un bon duel !\n",
      "Quel légume va très vite et rigole dans les virages ?\n",
      "Un chou marreur !\n",
      "C'est l'histoire d'un poil. Avant, il était bien.\n",
      "Maintenant, il est pubien.\n",
      "Que fait une lampe qui se fait agresser ? 💡\n",
      "Elle crie à LED !\n",
      "Quels sont les animaux que l’on retrouve en grand nombre dans la montagne ?\n",
      "Les chats lait ! 🐈🥛\n",
      "(histoire vraie)\n",
      "2 camarades discutent :\n",
      "« Je vais passer un test covid pour revoir mes grands-parents\n",
      "- Je te souhaite que du positif !\n",
      "- ... »\n",
      "Quelle est la différence entre du chocolat et une belle mère ?\n",
      "Le chocolat ça constipe et la belle mère ça fait chier ! 🍫\n",
      "C’est un aveugle qui rentre dans un bar,\n",
      "puis dans une table, puis dans une chaise, puis dans un mur, puis... 🕶️\n",
      "Ta mère est tellement grosse,\n",
      "Que quand elle se met sur une balance elle affiche : \"1 personne à la fois SVP\" ! ⚖️\n",
      "Quelle est l'expression préférée des vampires ? 🧛‍♂️\n",
      "Bon sang !\n",
      "Un jeune couple de squelettes arrive à l'hôtel :\n",
      "- Nous voudrions une belle chambre pour notre nuit de n'os ! 🦴\n",
      "Melon et Melèche veulent acheter un billard...\n",
      "Melon achète la table et Melèche les boules !\n",
      "Qu’est ce qui a 2 pattes et qui saigne beaucoup ?\n",
      "Un demi chien ! 🐾\n",
      "Qu’est ce qui sent le cul de vache ?\n",
      "La langue de bœuf !\n",
      "Quelle est le comble pour un jardinier ? 👨‍🌾\n",
      "C'est de se mettre tout nu devant ses tomates pour qu'elles rougissent ! 🍅🍅🍅\n",
      "Comment appelle-t-on un chien dans une pharmacie ? 🐕\n",
      "Un pharmachien !\n",
      "Tu veux que je te raconte une blague à 2 balles ?\n",
      "PAN PAN !!!!!! 🔫\n",
      "Quel métier les chiens peuvent-ils exercer ?\n",
      "Électrichien 🐕⚡🔌\n",
      "Melon et Melèche jouent au Scrabble.\n",
      "Melon pioche le A et Melèche le Q !\n",
      "Comment dit-on \"couche\" en Japonais ?\n",
      "Sakakiki !\n",
      "Ta mère est tellement lourde,\n",
      "Que quand on va au bowling c'est elle qu'on jette et pas la boulle ! 🎳\n",
      "Tu connais la blague du con qui dit non ?\n",
      "Non !\n",
      "Pourquoi une blonde met des boulles caisses dans les oreilles quand elle va à l'église ?\n",
      "Parce que Jésus crie !\n",
      "Pourquoi une blonde prend un seau rempli d'eau et une éponge quand elle va à l'église ?\n",
      "Pour l'ave maria !\n",
      "Personne, Rien et Stupide sont 3 pêcheurs qui vont à la pêche.\n",
      "Soudain, Personne, qui ne sait pas nager, tombe à l'eau. Alors Rien dit à Stupide d'appeler le 18. Stupide dit :\n",
      "\"-Allô, c'est Stupide. J'appelle pour Rien car Personne est tombé à l'eau.\"\n",
      "Que dit un saucisson pour remercier quelqu'un ?\n",
      "J'te r'vaudrai ça l'ami ! 😂\n",
      "A quoi servent des archipels ?\n",
      "Ben à faire des architrous !!!\n",
      "C'est l'histoire d'un têtard il croyait qu'il était tôt...\n",
      "Mais il était tard ! En fait, il était dans l'étang ! 🐸\n",
      "Les grains de sables\n",
      "Deux grains de sables sont dans le désert. L’un dit inquiet à l’autre :\n",
      "« Attention, je crois que nous sommes suivis ! »\n",
      "Qu'est ce qui monte, qui descend, qui tourne, mais qui ne bouge pas ?\n",
      "La route 🛣️\n",
      "Que dit un œuf qui attend son pote depuis 1 heure ?\n",
      "S'il arrive pas dans 10 minutes, j'me casse !\n",
      "- Pète puis Répète s'en vont à l'eau, Pète tombe à l'eau, qui reste sur le bateau ?\n",
      "- Répète !\n",
      "- Pète puis Répète s'en vont à l'eau, Pète tombe à l'eau, qui reste sur le bateau ?\n",
      "- Répète !\n",
      "- Pète puis Répète s'en vont à l'eau, Pète tombe à l'eau, qui reste sur le bateau ?\n",
      "- Répète !\n",
      "- Pète puis Répète s'en vont à l'eau, Pète tombe à l'eau, qui...\n",
      "Deux poissons discutent :\n",
      "– On rentre ?\n",
      "– Oui je me les caille ! 🐡\n",
      "[\"Qu'est-ce qui est jaune et qui attend ?\\nTes dents qui attendent chez le dentiste !\", 'Quelle est la différence entre ma femme et une vidéo YouTube ?\\nLa vidéo on peut la mettre en sourdine !', \"Un belge s'appuie sur le mur, lequel cède en premier ?\\nLe mur ! C'est le plus intelligent qui cède !\", \"Deux chèvres, BABI et BABA sont sur un bateau.\\nBABA tombe dans l'eau.\\nQue se passe-t-il ?\\nBABYBEL !\", \"Un homme demande à un avocat :\\n« Quel est le montant de vos honoraires ? »\\nL'avocat lui répond qu'il est de 1000€ pour trois questions.\\nL'homme lui demande alors :\\n« N'est-ce pas un peu excessif ? »\\nEt l'avocat lui répond :\\n« Non. Quelle est votre troisième question ? »\", 'Ton père est tellement vieux qu’il pète de la poussière.', 'Qu’est-ce qu’un homme intelligent en Belgique ?\\nUn touriste.', 'Bonjour, vous avez des céréales hallal ?\\nOui, j’ai aussi des tartines tines tines et de la confiture ture ture…', \"Ton frère est tellement bête que quand il joue avec le chien c'est lui qui va chercher la balle !\", 'Ta mère est tellement radine que quand elle va aux toilettes elle utilise les deux côtés du papier toilette !', 'Comment est-ce que la chouette sait que son mari fait la gueule ?\\nParce qu’hiboude !', \"La maîtresse demande de construire une phrase avec l'adjectif épithète.\\nNicolas lève le doigt et dit :\\nAujourd'hui il pleut, épithète demain, il fera beau !\", \"C'est un belge qui va chez le docteur et lui dit :\\n- Bonjour docteur je pense que je perd la mémoire ! Le docteur lui repond :\\n- À bon et depuis quand ? Et Le belge répond :\\n- Depuis quand quoi ? 👨\\u200d⚕️\", \"Qu'est-ce qui est vert et qui devient rouge quand on appui sur le bouton ?\\nUne grenouille dans un mixer ! 🐸\", 'Ta mère elle est tellement grosse que quand elle tombe du lit elle tombe des deux côtés !', 'Pourquoi les grenouilles ont toujours les fesses dans l’eau ?\\nPour garder la raie nette 🐸 !', 'Si les cons étaient fluorescents, la Terre 🌍 illuminerait le Soleil 🌞 !', \"Qu'est-ce qui est jaune et qui fait crac crac ?\\nUn poussin qui mange des chips ! 🐤\", 'Quelle partie du légume ne va pas au mixeur !?\\nLa chaise roulante ! 🧐', 'Tu veux que je te raconte une blague vaseuse ?\\nMets tes bottes !', \"On m'achète pour manger mais on ne me mange jamais. Qui suis-je ?\\nUne assiette !\", \"Ta mère est tellement poilu que quand elle promène le chien c'est elle qu'on caresse 🐶🐕\", 'Luc, Jean et Paul vont au bowling.\\nQui gagne ?\\nLuc, parce que Luc y Strike !', 'Un monsieur entre dans un café.\\nPlouf !', 'Comment se nomme la Barbie la plus poilue ? 👯\\nLa Barbie chette ! 🧔', \"Tu as 4 poussins et tu n'en veux que 3, comment faire ?\\nTu en pousses un 🐥🐤🐣\", \"Un jour quelqu'un a dit à Inch d'aller à Marrakech...\\nEt Inch alla ! 🇲🇦\", \"Pourquoi il n'y a plus de Mammouth ? 🐘\\nParce qu'il n'y a plus de Papouth.\", \"Vous connaissez l'histoire de l'armoire ?\\nElle n'est pas commode...\", 'Comment appelle-t-on un combat entre un petit pois et une carotte ? 🥕\\nUn bon duel !', 'Quel légume va très vite et rigole dans les virages ?\\nUn chou marreur !', \"C'est l'histoire d'un poil. Avant, il était bien.\\nMaintenant, il est pubien.\", 'Que fait une lampe qui se fait agresser ? 💡\\nElle crie à LED !', 'Quels sont les animaux que l’on retrouve en grand nombre dans la montagne ?\\nLes chats lait ! 🐈🥛', '(histoire vraie)\\n2 camarades discutent :\\n« Je vais passer un test covid pour revoir mes grands-parents\\n- Je te souhaite que du positif !\\n- ... »', 'Quelle est la différence entre du chocolat et une belle mère ?\\nLe chocolat ça constipe et la belle mère ça fait chier ! 🍫', 'C’est un aveugle qui rentre dans un bar,\\npuis dans une table, puis dans une chaise, puis dans un mur, puis... 🕶️', 'Ta mère est tellement grosse,\\nQue quand elle se met sur une balance elle affiche : \"1 personne à la fois SVP\" ! ⚖️', \"Quelle est l'expression préférée des vampires ? 🧛\\u200d♂️\\nBon sang !\", \"Un jeune couple de squelettes arrive à l'hôtel :\\n- Nous voudrions une belle chambre pour notre nuit de n'os ! 🦴\", 'Melon et Melèche veulent acheter un billard...\\nMelon achète la table et Melèche les boules !', 'Qu’est ce qui a 2 pattes et qui saigne beaucoup ?\\nUn demi chien ! 🐾', 'Qu’est ce qui sent le cul de vache ?\\nLa langue de bœuf !', \"Quelle est le comble pour un jardinier ? 👨\\u200d🌾\\nC'est de se mettre tout nu devant ses tomates pour qu'elles rougissent ! 🍅🍅🍅\", 'Comment appelle-t-on un chien dans une pharmacie ? 🐕\\nUn pharmachien !', 'Tu veux que je te raconte une blague à 2 balles ?\\nPAN PAN !!!!!! 🔫', 'Quel métier les chiens peuvent-ils exercer ?\\nÉlectrichien 🐕⚡🔌', 'Melon et Melèche jouent au Scrabble.\\nMelon pioche le A et Melèche le Q !', 'Comment dit-on \"couche\" en Japonais ?\\nSakakiki !', \"Ta mère est tellement lourde,\\nQue quand on va au bowling c'est elle qu'on jette et pas la boulle ! 🎳\", 'Tu connais la blague du con qui dit non ?\\nNon !', \"Pourquoi une blonde met des boulles caisses dans les oreilles quand elle va à l'église ?\\nParce que Jésus crie !\", \"Pourquoi une blonde prend un seau rempli d'eau et une éponge quand elle va à l'église ?\\nPour l'ave maria !\", 'Personne, Rien et Stupide sont 3 pêcheurs qui vont à la pêche.\\nSoudain, Personne, qui ne sait pas nager, tombe à l\\'eau. Alors Rien dit à Stupide d\\'appeler le 18. Stupide dit :\\n\"-Allô, c\\'est Stupide. J\\'appelle pour Rien car Personne est tombé à l\\'eau.\"', \"Que dit un saucisson pour remercier quelqu'un ?\\nJ'te r'vaudrai ça l'ami ! 😂\", 'A quoi servent des archipels ?\\nBen à faire des architrous !!!', \"C'est l'histoire d'un têtard il croyait qu'il était tôt...\\nMais il était tard ! En fait, il était dans l'étang ! 🐸\", 'Les grains de sables\\nDeux grains de sables sont dans le désert. L’un dit inquiet à l’autre :\\n« Attention, je crois que nous sommes suivis ! »', \"Qu'est ce qui monte, qui descend, qui tourne, mais qui ne bouge pas ?\\nLa route 🛣️\", \"Que dit un œuf qui attend son pote depuis 1 heure ?\\nS'il arrive pas dans 10 minutes, j'me casse !\", \"- Pète puis Répète s'en vont à l'eau, Pète tombe à l'eau, qui reste sur le bateau ?\\n- Répète !\\n- Pète puis Répète s'en vont à l'eau, Pète tombe à l'eau, qui reste sur le bateau ?\\n- Répète !\\n- Pète puis Répète s'en vont à l'eau, Pète tombe à l'eau, qui reste sur le bateau ?\\n- Répète !\\n- Pète puis Répète s'en vont à l'eau, Pète tombe à l'eau, qui...\", 'Deux poissons discutent :\\n– On rentre ?\\n– Oui je me les caille ! 🐡']\n"
     ]
    }
   ],
   "source": [
    "try:\n",
    "    for i in range(nombre_de_page):\n",
    "        \"\"\"\n",
    "            boucle pour charger les elements sur la page\n",
    "            en clickant sur \"more\" toutes les 3 secondes\n",
    "\n",
    "        \"\"\"\n",
    "        more = driver.find_element_by_css_selector(\"button#more\")\n",
    "        more.click()\n",
    "        time.sleep(3)\n",
    "\n",
    "    for card_content in driver.find_elements_by_css_selector(\"div.card-content\"):\n",
    "        \"\"\"\n",
    "            pour chaque \"card\" on va récuperer la ligne\n",
    "            de texte correspondant à la blague et\n",
    "            on l'envoie dans un tableau\n",
    "        \"\"\"\n",
    "        time.sleep(1)\n",
    "        joke = card_content.find_elements_by_css_selector(\"div.card-body > div.inner > div.wrap\")\n",
    "        for line in joke:\n",
    "            print(line.text)\n",
    "            joke_list.append(line.text)\n",
    "\n",
    "except AttributeError:\n",
    "    print(\"error\")\n",
    "\n",
    "print(joke_list)\n",
    "driver.close()"
   ]
  },
  {
   "cell_type": "markdown",
   "metadata": {},
   "source": [
    "Une fois les données récupérées il ne reste plus qu'à les écrires dans un fichier CSV pour les sauvergarder."
   ]
  },
  {
   "cell_type": "code",
   "execution_count": 11,
   "metadata": {},
   "outputs": [
    {
     "name": "stdout",
     "output_type": "stream",
     "text": [
      "    Unnamed: 0                                                  0\n",
      "0            0  Qu'est-ce qui est jaune et qui attend ?\\nTes d...\n",
      "1            1  Quelle est la différence entre ma femme et une...\n",
      "2            2  Un belge s'appuie sur le mur, lequel cède en p...\n",
      "3            3  Deux chèvres, BABI et BABA sont sur un bateau....\n",
      "4            4  Un homme demande à un avocat :\\n« Quel est le ...\n",
      "..         ...                                                ...\n",
      "57          57  Les grains de sables\\nDeux grains de sables so...\n",
      "58          58  Qu'est ce qui monte, qui descend, qui tourne, ...\n",
      "59          59  Que dit un œuf qui attend son pote depuis 1 he...\n",
      "60          60  - Pète puis Répète s'en vont à l'eau, Pète tom...\n",
      "61          61  Deux poissons discutent :\\n– On rentre ?\\n– Ou...\n",
      "\n",
      "[62 rows x 2 columns]\n"
     ]
    }
   ],
   "source": [
    "# Creation du dossier ./data\n",
    "outdir = './data'\n",
    "if not os.path.exists(outdir):\n",
    "    os.mkdir(outdir)\n",
    "    \n",
    "# Ecriture sur un fichier CSV\n",
    "df = pd.DataFrame(joke_list)\n",
    "df.to_csv(\"./scrapped_data/joke.csv\", index=True)\n",
    "\n",
    "joke_csv = pd.read_csv('./scrapped_data/joke.csv')\n",
    "print(joke_csv)"
   ]
  },
  {
   "cell_type": "markdown",
   "metadata": {},
   "source": [
    "And voilà !"
   ]
  }
 ],
 "metadata": {
  "kernelspec": {
   "display_name": "Python 3",
   "language": "python",
   "name": "python3"
  },
  "language_info": {
   "codemirror_mode": {
    "name": "ipython",
    "version": 3
   },
   "file_extension": ".py",
   "mimetype": "text/x-python",
   "name": "python",
   "nbconvert_exporter": "python",
   "pygments_lexer": "ipython3",
   "version": "3.8.6"
  }
 },
 "nbformat": 4,
 "nbformat_minor": 1
}